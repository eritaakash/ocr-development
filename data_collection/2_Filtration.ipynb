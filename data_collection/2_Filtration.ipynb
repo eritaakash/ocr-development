{
 "cells": [
  {
   "cell_type": "code",
   "execution_count": 41,
   "metadata": {},
   "outputs": [],
   "source": [
    "import matplotlib.pyplot as plt \n",
    "from PIL import Image, ImageDraw, ImageFont\n",
    "\n",
    "import cv2, random, os\n",
    "import numpy as np\n",
    "\n",
    "def write_stuff(text: str, font_path: str):    \n",
    "    font_size = 130  # Adjust if needed\n",
    "    font = ImageFont.truetype(font_path, font_size)\n",
    "\n",
    "    img = Image.new('RGB', (128 * 30, 500), (255, 255, 255))\n",
    "    draw = ImageDraw.Draw(img)\n",
    "\n",
    "    # Get exact bounding box\n",
    "    bbox = draw.textbbox((0, 0), text, font=font)\n",
    "    text_width = bbox[2] - bbox[0]\n",
    "    text_height = bbox[3] - bbox[1]\n",
    "\n",
    "    # Compute proper centering\n",
    "    x = (img.width - text_width) / 2 - bbox[0]  # Center X\n",
    "    y = (img.height - text_height) / 2 - bbox[1]  # Center Y\n",
    "\n",
    "    # Draw text properly centered\n",
    "    draw.text((x, y), text, font=font, fill=(0, 0, 0))\n",
    "    return img\n"
   ]
  },
  {
   "cell_type": "code",
   "execution_count": 42,
   "metadata": {},
   "outputs": [
    {
     "name": "stdout",
     "output_type": "stream",
     "text": [
      "Done!\n"
     ]
    }
   ],
   "source": [
    "# plt.imshow(np.array(img))\n",
    "\n",
    "for font_file in os.listdir('./fonts'):\n",
    "\n",
    "    if 'bold' in font_file.lower():\n",
    "        continue\n",
    "\n",
    "    try:\n",
    "        img = write_stuff(\n",
    "            text='a b c d e f g h i j k l m n o p q r s t u v w x y z',\n",
    "            font_path=f'./fonts/{font_file}'\n",
    "        )\n",
    "\n",
    "        # save the img in ./font_outputs/\n",
    "        img.save(f'./font_outputs/{font_file}.png')\n",
    "    except Exception as e:\n",
    "        print(f'Error with {font_file}: {e}')\n",
    "        continue\n",
    "\n",
    "print('Done!')\n"
   ]
  }
 ],
 "metadata": {
  "kernelspec": {
   "display_name": "Python 3",
   "language": "python",
   "name": "python3"
  },
  "language_info": {
   "codemirror_mode": {
    "name": "ipython",
    "version": 3
   },
   "file_extension": ".py",
   "mimetype": "text/x-python",
   "name": "python",
   "nbconvert_exporter": "python",
   "pygments_lexer": "ipython3",
   "version": "3.12.7"
  }
 },
 "nbformat": 4,
 "nbformat_minor": 2
}
